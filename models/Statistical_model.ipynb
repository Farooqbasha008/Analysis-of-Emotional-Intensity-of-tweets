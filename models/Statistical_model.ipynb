{
  "nbformat": 4,
  "nbformat_minor": 0,
  "metadata": {
    "colab": {
      "provenance": [],
      "authorship_tag": "ABX9TyNdSA+Tavoo+YqQ2keXFxnv",
      "include_colab_link": true
    },
    "kernelspec": {
      "name": "python3",
      "display_name": "Python 3"
    },
    "language_info": {
      "name": "python"
    }
  },
  "cells": [
    {
      "cell_type": "markdown",
      "metadata": {
        "id": "view-in-github",
        "colab_type": "text"
      },
      "source": [
        "<a href=\"https://colab.research.google.com/github/Farooqbasha008/Analysis-of-Emotional-Intensity-of-tweets/blob/main/models/Statistical_model.ipynb\" target=\"_parent\"><img src=\"https://colab.research.google.com/assets/colab-badge.svg\" alt=\"Open In Colab\"/></a>"
      ]
    },
    {
      "cell_type": "code",
      "execution_count": null,
      "metadata": {
        "colab": {
          "base_uri": "https://localhost:8080/"
        },
        "id": "5B2d0FWEUiJ1",
        "outputId": "6d4bcbc1-080b-406f-8065-0c5602a85970"
      },
      "outputs": [
        {
          "output_type": "stream",
          "name": "stdout",
          "text": [
            "Mean Absolute Error (MAE): 0.0510570074666143\n",
            "Mean Squared Error (MSE): 0.011451054954837744\n",
            "Root Mean Squared Error (RMSE): 0.10700960216185156\n",
            "R-squared (R2): 0.7095968416530064\n",
            "Root Mean Squared Logarithmic Error (RMSLE): 0.07229241877765256\n",
            "Mean Absolute Percentage Error (MAPE): inf\n"
          ]
        }
      ],
      "source": [
        "import pandas as pd\n",
        "import numpy as np\n",
        "from sklearn.linear_model import Ridge\n",
        "from sklearn.linear_model import RidgeCV\n",
        "from sklearn.model_selection import RepeatedKFold\n",
        "from sklearn.metrics import mean_absolute_error, mean_squared_error, mean_squared_log_error, r2_score\n",
        "\n",
        "# Read the train and test datasets\n",
        "train_df = pd.read_csv('trained.csv')\n",
        "test_df = pd.read_csv('tested.csv')\n",
        "\n",
        "# Drop unnecessary columns\n",
        "train_df = train_df.drop('Unnamed: 0', axis=1)\n",
        "test_df = test_df.drop('Unnamed: 0', axis=1)\n",
        "\n",
        "# Prepare the train and test data\n",
        "X_train = train_df.iloc[:, :5]\n",
        "y_train = train_df['score']\n",
        "\n",
        "X_test = test_df.iloc[:, :5]\n",
        "y_test = test_df['score']\n",
        "\n",
        "# Define and fit the Ridge model\n",
        "model = Ridge()\n",
        "model.fit(X_train, y_train)\n",
        "\n",
        "# Predict using the Ridge model\n",
        "y_pred = model.predict(X_test)\n",
        "\n",
        "# Define cross-validation method\n",
        "cv = RepeatedKFold(n_splits=10, n_repeats=3, random_state=1)\n",
        "\n",
        "# Define RidgeCV model with alpha selection\n",
        "model_cv = RidgeCV(alphas=np.arange(0.01, 1, 0.01), cv=cv, scoring='neg_mean_absolute_error')\n",
        "model_cv.fit(X_train, y_train)\n",
        "\n",
        "# Get the chosen alpha value\n",
        "alpha = model_cv.alpha_\n",
        "\n",
        "# Define Ridge model with chosen alpha\n",
        "model = Ridge(alpha=alpha)\n",
        "model.fit(X_train, y_train)\n",
        "\n",
        "# Predict using the Ridge model with chosen alpha\n",
        "y_pred = model.predict(X_test)\n",
        "\n",
        "# Calculate evaluation metrics\n",
        "\n",
        "# Calculate MAE\n",
        "mae = mean_absolute_error(y_test, y_pred)\n",
        "print(\"Mean Absolute Error (MAE):\", mae)\n",
        "\n",
        "# Calculate MSE\n",
        "mse = mean_squared_error(y_test, y_pred)\n",
        "print(\"Mean Squared Error (MSE):\", mse)\n",
        "\n",
        "# Calculate RMSE\n",
        "rmse = np.sqrt(mse)\n",
        "print(\"Root Mean Squared Error (RMSE):\", rmse)\n",
        "\n",
        "# Calculate R2 score\n",
        "r2 = r2_score(y_test, y_pred)\n",
        "print(\"R-squared (R2):\", r2)\n",
        "\n",
        "# Calculate RMSLE\n",
        "rmsle = np.sqrt(mean_squared_log_error(y_test, y_pred))\n",
        "print(\"Root Mean Squared Logarithmic Error (RMSLE):\", rmsle)\n",
        "\n",
        "# Calculate MAPE\n",
        "mape = np.mean(np.abs((y_test - y_pred) / y_test)) * 100\n",
        "print(\"Mean Absolute Percentage Error (MAPE):\", mape)\n"
      ]
    }
  ]
}